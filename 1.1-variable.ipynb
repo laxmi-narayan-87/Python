{
 "cells": [
  {
   "cell_type": "markdown",
   "id": "cc4e1f53",
   "metadata": {},
   "source": [
    "# Variables\n",
    "\n",
    "Variables are essential components in programming, used to store data that can be referenced and manipulated within a program. In Python, variables are created by assigning a value to them, without the need for explicit declaration to allocate memory. The declaration occurs automatically during the assignment.\n",
    "\n",
    "## Outline\n",
    "\n",
    "- **Introduction to Variables**\n",
    "- **Declaring and Assigning Variables**\n",
    "- **Naming Conventions**\n",
    "- **Understanding Variable Types**\n",
    "- **Type Checking and Conversion**\n",
    "- **Dynamic Typing**\n",
    "- **Practical Examples and Common Errors**"
   ]
  },
  {
   "cell_type": "code",
   "execution_count": 1,
   "id": "f30b4e77",
   "metadata": {},
   "outputs": [
    {
     "name": "stdout",
     "output_type": "stream",
     "text": [
      "Age: 25\n",
      "Height: 6.1\n",
      "Name: Laxmi Narayan\n",
      "Is Student: True\n"
     ]
    }
   ],
   "source": [
    "## Declaring and Assigning Variables\n",
    "\n",
    "age = 25\n",
    "height = 6.1\n",
    "name = \"Laxmi Narayan\"\n",
    "is_student = True\n",
    "\n",
    "## Printing the variables\n",
    "\n",
    "print(\"Age:\", age)\n",
    "print(\"Height:\", height)\n",
    "print(\"Name:\", name)\n",
    "print(\"Is Student:\", is_student)"
   ]
  },
  {
   "cell_type": "markdown",
   "id": "7607c8d6",
   "metadata": {},
   "source": [
    "# Naming Conventions\n",
    "\n",
    "Naming conventions are essential for writing clean, readable, and maintainable code. Following consistent naming conventions helps other developers (and your future self) understand the purpose of variables and their usage in the code.\n",
    "\n",
    "## General Guidelines\n",
    "- Variable names should be **descriptive** and **meaningful**, reflecting the purpose or content of the variable.\n",
    "- Names must start with a **letter** (a-z, A-Z) or an **underscore** (`_`), but cannot start with a number.\n",
    "- Variable names can contain **letters**, **numbers**, and **underscores** (`_`), but no special characters or spaces.\n",
    "- Variable names are **case-sensitive**. For example, `age`, `Age`, and `AGE` are treated as three different variables.\n",
    "\n",
    "## Best Practices\n",
    "1. Use **snake_case** for variable names in Python (e.g., `user_name`, `total_score`).\n",
    "2. Avoid using single-character names except for loop counters (e.g., `i`, `j`).\n",
    "3. Do not use Python **reserved keywords** (e.g., `class`, `def`, `if`, `else`) as variable names.\n",
    "4. Use **lowercase** for variable names unless they represent constants, in which case use `UPPERCASE`.\n",
    "5. Be consistent with naming conventions throughout your codebase.\n",
    "\n",
    "## Common Errors\n",
    "- Starting a variable name with a number (e.g., `1name`).\n",
    "- Using special characters (e.g., `user-name` or `user@name`).\n",
    "- Using reserved keywords (e.g., `for = 10`).\n",
    "\n",
    "By adhering to these conventions, you can ensure your code is easier to read, debug, and maintain.\n"
   ]
  },
  {
   "cell_type": "code",
   "execution_count": 2,
   "id": "7305f70c",
   "metadata": {},
   "outputs": [],
   "source": [
    "#Valid variable names\n",
    "my_variable = 10\n",
    "_variable = 20\n",
    "myVariable = 30\n",
    "MYVARIABLE = 40\n",
    "first_name=\"Laxmi\"\n",
    "last_name=\"Narayan\"\n"
   ]
  },
  {
   "cell_type": "code",
   "execution_count": 3,
   "id": "961e0277",
   "metadata": {},
   "outputs": [],
   "source": [
    "#Invalid variable name\n",
    "# 1st_name = \"Laxmi\"  # Invalid, cannot start with a number\n",
    "#@invalid_variable = 50  # Invalid, cannot start with @\n",
    "# my-age=25  # Invalid, cannot use hyphen"
   ]
  },
  {
   "cell_type": "code",
   "execution_count": 4,
   "id": "6a1dfa2c",
   "metadata": {},
   "outputs": [
    {
     "name": "stdout",
     "output_type": "stream",
     "text": [
      "Laxmi\n",
      "Narayan\n"
     ]
    }
   ],
   "source": [
    "#Case Sensitivity\n",
    "name = \"Laxmi\"\n",
    "Name = \"Narayan\"\n",
    "print(name)  # Output: Laxmi\n",
    "print(Name)  # Output: Narayan\n"
   ]
  },
  {
   "cell_type": "markdown",
   "id": "f4336a86",
   "metadata": {},
   "source": [
    "# Understanding Variable Types\n",
    "\n",
    "Python is a **dynamically typed** language, meaning the type of a variable is determined at runtime based on the value assigned to it. This flexibility allows developers to focus on logic without explicitly declaring variable types.\n",
    "\n",
    "## Key Points\n",
    "- Variables can hold different types of data, such as integers, strings, floats, booleans, etc.\n",
    "- The type of a variable can be checked using the `type()` function.\n",
    "- Python's dynamic typing makes it easy to work with variables, but it also requires careful handling to avoid type-related errors.\n"
   ]
  },
  {
   "cell_type": "code",
   "execution_count": 5,
   "id": "0bda1951",
   "metadata": {},
   "outputs": [
    {
     "name": "stdout",
     "output_type": "stream",
     "text": [
      "<class 'str'>\n"
     ]
    }
   ],
   "source": [
    "age = 25 #int\n",
    "height = 6.1 #float\n",
    "name = \"Laxmi\" #str\n",
    "is_student = True #bool\n",
    "\n",
    "print((type(name)))"
   ]
  },
  {
   "cell_type": "code",
   "execution_count": 6,
   "id": "1e94fbb0",
   "metadata": {},
   "outputs": [
    {
     "data": {
      "text/plain": [
       "float"
      ]
     },
     "execution_count": 6,
     "metadata": {},
     "output_type": "execute_result"
    }
   ],
   "source": [
    "#type checking and conevrsion\n",
    "\n",
    "type(height)"
   ]
  },
  {
   "cell_type": "markdown",
   "id": "d281a153",
   "metadata": {},
   "source": [
    "# Type Conversion\n",
    "\n",
    "Type conversion, also known as type casting, is the process of converting a variable from one data type to another. Python provides built-in functions to perform explicit type conversion, allowing developers to change the type of a variable as needed.\n",
    "\n",
    "## Key Points\n",
    "1. **Implicit Type Conversion**: Python automatically converts one data type to another when it is safe to do so. For example, adding an integer and a float results in a float.\n",
    "\n",
    "2. **Explicit Type Conversion**: Developers can explicitly convert a variable to a specific type using built-in functions such as `int()`, `float()`, `str()`, and `bool()`.\n",
    "\n",
    "3. **Common Use Cases**:\n",
    "    - Converting user input (always a string) to the desired type.\n",
    "    - Performing mathematical operations that require consistent data types.\n",
    "    - Formatting data for display or storage.\n",
    "\n",
    "4. **Potential Pitfalls**:\n",
    "    - Converting a string to a number requires the string to represent a valid number. Otherwise, a `ValueError` will occur.\n",
    "      ```python\n",
    "      invalid_number = int(\"abc\")  # Raises ValueError\n",
    "      ```\n",
    "    - Converting a float to an integer truncates the decimal part, which may lead to data loss.\n"
   ]
  },
  {
   "cell_type": "code",
   "execution_count": 7,
   "id": "3c836de1",
   "metadata": {},
   "outputs": [
    {
     "name": "stdout",
     "output_type": "stream",
     "text": [
      "15.5\n",
      "<class 'float'>\n"
     ]
    }
   ],
   "source": [
    "#implicit type conversion\n",
    "\n",
    "result = 10 + 5.5  # Implicit conversion: int to float    \n",
    "print(result)  # Output: 15.5\n",
    "print(type(result))  # Output: <class 'float'>"
   ]
  },
  {
   "cell_type": "code",
   "execution_count": 8,
   "id": "5e953baf",
   "metadata": {},
   "outputs": [
    {
     "name": "stdout",
     "output_type": "stream",
     "text": [
      "25\n",
      "<class 'str'>\n",
      "6\n",
      "<class 'int'>\n"
     ]
    }
   ],
   "source": [
    "##Explicit Type Conversion\n",
    "\n",
    "\n",
    "age = 25  # int\n",
    "height = 6.1  # float\n",
    "age_str = str(age)  # Convert int to str\n",
    "height_int = int(height)  # Convert float to int (truncates decimal part)\n",
    "print(age_str)  # Output: '25'\n",
    "print(type(age_str))  # Output: <class 'str'>\n",
    "print(height_int)  # Output: 6\n",
    "print(type(height_int))  # Output: <class 'int'>"
   ]
  },
  {
   "cell_type": "code",
   "execution_count": 9,
   "id": "181c35db",
   "metadata": {},
   "outputs": [
    {
     "name": "stdout",
     "output_type": "stream",
     "text": [
      "The sum is: 132.0\n",
      "The difference is: -2.0\n",
      "The product is: 4355.0\n",
      "The quotient is: 0.9701492537313433\n"
     ]
    }
   ],
   "source": [
    "#Simple Calculator\n",
    "\n",
    "\n",
    "\n",
    "num1= float(input(\"Enter first number: \"))\n",
    "num2= float(input(\"Enter second number: \"))\n",
    "\n",
    "sum=num1 + num2\n",
    "difference = num1 - num2\n",
    "product= num1*num2\n",
    "quotient = num1 / num2\n",
    "\n",
    "\n",
    "print(\"The sum is:\", sum)\n",
    "print(\"The difference is:\", difference)\n",
    "print(\"The product is:\", product)\n",
    "print(\"The quotient is:\", quotient)\n"
   ]
  },
  {
   "cell_type": "markdown",
   "id": "15074829",
   "metadata": {},
   "source": [
    "# Conclusion\n",
    "\n",
    "Understanding variables is fundamental to Python programming. They allow for the storage and manipulation of data, enabling the creation of dynamic and functional code. By adhering to proper naming conventions, recognizing variable types, and leveraging type conversion when necessary, developers can write clean, efficient, and maintainable code. Mastery of these concepts ensures better readability, consistency, and fewer errors in your programs."
   ]
  }
 ],
 "metadata": {
  "kernelspec": {
   "display_name": "Python 3",
   "language": "python",
   "name": "python3"
  },
  "language_info": {
   "codemirror_mode": {
    "name": "ipython",
    "version": 3
   },
   "file_extension": ".py",
   "mimetype": "text/x-python",
   "name": "python",
   "nbconvert_exporter": "python",
   "pygments_lexer": "ipython3",
   "version": "3.12.0"
  }
 },
 "nbformat": 4,
 "nbformat_minor": 5
}
