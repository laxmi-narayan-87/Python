{
 "cells": [
  {
   "cell_type": "markdown",
   "id": "c4df3b4e",
   "metadata": {},
   "source": [
    "# Syntax and Semantics in Python\n",
    "\n",
    "## Outline:\n",
    "\n",
    "- **Comments in Python**  \n",
    "    - Single-line comments  \n",
    "    - Multi-line comments  \n",
    "\n",
    "- **Definition**  \n",
    "    - What are Syntax and Semantics?  \n",
    "\n",
    "- **Basic Syntax Rules in Python**  \n",
    "    - Key principles to follow  \n",
    "\n",
    "- **Understanding Semantics in Python**  \n",
    "    - How meaning is conveyed in code  \n",
    "\n",
    "- **Common Syntax Errors and How to Avoid Them**  \n",
    "    - Examples and solutions  \n",
    "\n",
    "- **Practical Code Examples**  \n",
    "    - Hands-on demonstrations  "
   ]
  },
  {
   "cell_type": "markdown",
   "id": "cdc3be55",
   "metadata": {},
   "source": [
    "Comments refer to the part of the code that is not executed during program execution.  \n",
    "They are used to make the code more readable and to explain the logic or purpose of specific sections of the code.  \n",
    "In Python, comments are denoted using the `#` symbol.  \n",
    "\n",
    "There are two types of comments in Python:  \n",
    "- **Single-line comments**:  \n",
    "    These use the `#` symbol and are used to comment on a single line.  \n",
    "    \n",
    "\n",
    "- **Multi-line comments**:  \n",
    "    These use triple quotes (`'''` or `\"\"\"`) to comment on multiple lines.  \n",
    "    They are often used for longer explanations or documentation.  \n",
    "\n",
    "\n",
    "**Best Practices for Writing Comments**:  \n",
    "- Keep comments concise and relevant.  \n",
    "- Avoid stating the obvious; focus on explaining the \"why\" rather than the \"what\".  \n",
    "- Update comments when the code changes to ensure they remain accurate.  \n",
    "- Use comments to clarify complex logic or assumptions in the code.  "
   ]
  },
  {
   "cell_type": "code",
   "execution_count": 1,
   "id": "a5255893",
   "metadata": {},
   "outputs": [
    {
     "name": "stdout",
     "output_type": "stream",
     "text": [
      "Hello, World!\n",
      "Hello, World!\n"
     ]
    }
   ],
   "source": [
    "# This is a single-line comment\n",
    "# Single-line comments start with the '#' symbol and are used to explain specific lines of code.\n",
    "print(\"Hello, World!\")  # This comment explains the print statement\n",
    "\n",
    "# This is a multi-line comment\n",
    "'''\n",
    "This is a multi-line comment.\n",
    "It can span multiple lines and is often used for detailed explanations.\n",
    "Multi-line comments are enclosed in triple single quotes or triple double quotes .\n",
    "They are commonly used for documentation or to provide context for a block of code.\n",
    "'''\n",
    "print(\"Hello, World!\")  # This line prints a greeting message to the console\n"
   ]
  },
  {
   "cell_type": "markdown",
   "id": "34caff78",
   "metadata": {},
   "source": [
    "**Syntax** refers to the set of rules that define the structure and arrangement of symbols, keywords, and characters in a programming language. In simpler terms, syntax ensures that the code is written in a way that the language can understand and process.\n",
    "\n",
    "**Semantics** refers to the meaning or interpretation of the symbols, keywords, and commands in a programming language. It focuses on what the code is intended to do when executed.\n"
   ]
  },
  {
   "cell_type": "markdown",
   "id": "721ef18e",
   "metadata": {},
   "source": [
    "### Basic Syntax Rules in Python\n",
    "\n",
    "#### 1. **Case Sensitivity**\n",
    "  - Python is a case-sensitive language. This means that variable and function names are case-sensitive.\n",
    "  - Python is case-sensitive, meaning that variable names like `name` and `Name` are treated as distinct identifiers.\n"
   ]
  },
  {
   "cell_type": "code",
   "execution_count": 2,
   "id": "0ec46736",
   "metadata": {},
   "outputs": [
    {
     "name": "stdout",
     "output_type": "stream",
     "text": [
      "laxmi narayan\n",
      "LAXMI NARAYAN\n"
     ]
    }
   ],
   "source": [
    "#1 CASE SENSITIVITY\n",
    "\n",
    "name =\"laxmi narayan\"\n",
    "Name= \"LAXMI NARAYAN\"\n",
    "\n",
    "print(name)\n",
    "print(Name)\n",
    "\n",
    "#In the example above, `name` and `Name` are two different variables.\n"
   ]
  },
  {
   "cell_type": "markdown",
   "id": "5515e731",
   "metadata": {},
   "source": [
    "\n",
    "#### 2. **Identifiers**\n",
    "  - Identifiers are the names used to identify variables, functions, classes, or other objects in Python.\n",
    "  - Rules for naming identifiers:\n",
    "    - Must begin with a letter (A-Z or a-z) or an underscore `_`.\n",
    "    - Can be followed by letters, digits (0-9), or underscores.\n",
    "    - Cannot use Python keywords (e.g., `if`, `else`, `while`, etc.) as identifiers.\n",
    "    - Identifiers are case-sensitive.\n"
   ]
  },
  {
   "cell_type": "code",
   "execution_count": 13,
   "id": "0f7fef87",
   "metadata": {},
   "outputs": [
    {
     "data": {
      "text/plain": [
       "'\\n2name = \"Bob\"       # Starts with a digit ❌\\nmy-var = \"Error\"    # Hyphen not allowed ❌\\nclass = \"Oops\"      # \\'class\\' is a keyword ❌\\n'"
      ]
     },
     "execution_count": 13,
     "metadata": {},
     "output_type": "execute_result"
    }
   ],
   "source": [
    "#Identifiers\n",
    "my_age = 25\n",
    "_name = \"Learner\"\n",
    "user123 = \"Amogh\"\n",
    "\"\"\"\n",
    "2name = \"Bob\"       # Starts with a digit ❌\n",
    "my-var = \"Error\"    # Hyphen not allowed ❌\n",
    "class = \"Oops\"      # 'class' is a keyword ❌\n",
    "\"\"\"\n"
   ]
  },
  {
   "cell_type": "markdown",
   "id": "a5adbe29",
   "metadata": {},
   "source": [
    "#### 3. **Loops**\n",
    "   - Loops are used to execute a block of code repeatedly.\n",
    "   - Python supports two types of loops:\n",
    "      - **For Loop**:  \n",
    "         - Iterates over a sequence (e.g., list, tuple, string).  \n",
    "         - Syntax:  \n",
    "            ```python\n",
    "            for variable in sequence:\n",
    "                  # code block\n",
    "            ```\n",
    "         - In a `for` loop, the variable takes on each value in the sequence one at a time, and the code block is executed for each value.\n",
    "\n",
    "      - **While Loop**:  \n",
    "         - Repeats as long as a condition is true.  \n",
    "         - Syntax:  \n",
    "            ```python\n",
    "            while condition:\n",
    "                  # code block\n",
    "            ```\n",
    "         - In a `while` loop, the code block continues to execute as long as the condition evaluates to `True`. The condition is checked before each iteration.\n"
   ]
  },
  {
   "cell_type": "code",
   "execution_count": 4,
   "id": "f375f8b8",
   "metadata": {},
   "outputs": [
    {
     "name": "stdout",
     "output_type": "stream",
     "text": [
      "0\n",
      "1\n",
      "2\n",
      "3\n",
      "4\n",
      "0\n",
      "1\n",
      "2\n",
      "3\n",
      "4\n"
     ]
    }
   ],
   "source": [
    "#3. Loops\n",
    "\n",
    "\n",
    "# For loop\n",
    "for i in range(5):\n",
    "    print(i)\n",
    "\n",
    "# While loop\n",
    "count = 0\n",
    "while count < 5:\n",
    "    print(count)\n",
    "    count += 1\n",
    "\n"
   ]
  },
  {
   "cell_type": "markdown",
   "id": "8e029eee",
   "metadata": {},
   "source": [
    "#### 4. **Variables and Assignments**\n",
    "  - **Variables**:\n",
    "    - Variables are used to store data values.\n",
    "    - A variable is essentially a name that refers to a memory location where data is stored.\n",
    "    - Python uses **dynamic typing**, meaning you don’t need to declare the type of a variable explicitly. The type is inferred based on the value assigned to the variable.\n",
    "    - Variables are case-sensitive, meaning `name` and `Name` are treated as two different variables.\n",
    "\n",
    "  - **Assignment**:\n",
    "    - Assignment is done using the `=` operator.\n",
    "    - The syntax for assignment is:  \n",
    "      ```python\n",
    "      variable_name = value\n",
    "      ```\n",
    "    - You can assign values of any data type to a variable, and the type can change during runtime.\n",
    "\n",
    "  - **Best Practices**:\n",
    "    - Use meaningful variable names to make the code more readable.\n",
    "    - Follow naming conventions (e.g., snake_case for variable names).\n",
    "    - Avoid using Python keywords as variable names.\n",
    "    - Be cautious with case sensitivity to avoid unintended bugs.\n"
   ]
  },
  {
   "cell_type": "code",
   "execution_count": 5,
   "id": "a70adfb6",
   "metadata": {},
   "outputs": [
    {
     "name": "stdout",
     "output_type": "stream",
     "text": [
      "laxmi narayan\n",
      "LAXMI NARAYAN\n",
      "30\n",
      "Kanpur\n"
     ]
    }
   ],
   "source": [
    "#4. Variables And Assignments\n",
    "\n",
    "# Using existing variables\n",
    "print(name)  # Prints the value of the variable 'name'\n",
    "print(Name)  # Prints the value of the variable 'Name'\n",
    "\n",
    "# Reassigning a variable\n",
    "my_age = 30  # Changing the value of 'my_age'\n",
    "print(my_age)  # Prints the updated value of 'my_age'\n",
    "\n",
    "# Assigning a new value to an existing variable\n",
    "City = \"Kanpur\"\n",
    "print(City)  # Prints the updated value of 'City'\n"
   ]
  },
  {
   "cell_type": "markdown",
   "id": "983a7282",
   "metadata": {},
   "source": [
    "#### 5. **Data Types**\n",
    "  - Python provides several built-in data types to handle different kinds of data. These data types can be broadly categorized as follows:\n",
    "\n",
    "    - **Numeric Types**:\n",
    "      - `int`: Represents integers (e.g., `1`, `42`, `-7`).\n",
    "      - `float`: Represents floating-point numbers (e.g., `3.14`, `-0.001`).\n",
    "      - `complex`: Represents complex numbers (e.g., `3+4j`).\n",
    "\n",
    "    - **Sequence Types**:\n",
    "      - `list`: An ordered, mutable collection of items (e.g., `[1, 2, 3]`).\n",
    "      - `tuple`: An ordered, immutable collection of items (e.g., `(1, 2, 3)`).\n",
    "      - `range`: Represents a sequence of numbers (e.g., `range(5)` generates `0, 1, 2, 3, 4`).\n",
    "\n",
    "    - **Text Type**:\n",
    "      - `str`: Represents a sequence of characters (e.g., `\"Hello, World!\"`).\n",
    "\n",
    "    - **Set Types**:\n",
    "      - `set`: An unordered collection of unique items (e.g., `{1, 2, 3}`).\n",
    "      - `frozenset`: An immutable version of a set.\n",
    "\n",
    "    - **Mapping Type**:\n",
    "      - `dict`: A collection of key-value pairs (e.g., `{\"name\": \"Alice\", \"age\": 25}`).\n",
    "\n",
    "    - **Boolean Type**:\n",
    "      - `bool`: Represents `True` or `False`.\n",
    "\n",
    "    - **None Type**:\n",
    "      - `NoneType`: Represents the absence of a value or a null value (e.g., `None`).\n",
    "\n",
    "\n",
    "      **Type Checking** or **Type Inference**:\n",
    "        - You can check the type of a variable using the `type()` function.\n",
    "        - For example:\n",
    "          - `type(age)` will return `<class 'int'>`.\n",
    "          - `type(name)` will return `<class 'str'>`.\n",
    "        - This is particularly useful when debugging or when working with dynamically typed variables to ensure they have the expected type.\n",
    "        - Additionally, you can use the `isinstance()` function to check if a variable is of a specific type:\n",
    "          - `isinstance(fruits, list)` will return `True`.\n",
    "          - `isinstance(pi, int)` will return `False`.\n"
   ]
  },
  {
   "cell_type": "code",
   "execution_count": 6,
   "id": "3560a946",
   "metadata": {},
   "outputs": [
    {
     "name": "stdout",
     "output_type": "stream",
     "text": [
      "<class 'int'>\n",
      "<class 'float'>\n",
      "<class 'complex'>\n",
      "<class 'list'>\n",
      "<class 'tuple'>\n",
      "<class 'range'>\n",
      "<class 'str'>\n",
      "<class 'set'>\n",
      "<class 'frozenset'>\n",
      "<class 'dict'>\n",
      "<class 'bool'>\n",
      "<class 'NoneType'>\n"
     ]
    }
   ],
   "source": [
    "# Numeric Types\n",
    "age = 25          # int\n",
    "print(type(age))\n",
    "pi = 3.14159      # float\n",
    "print(type(pi))\n",
    "z = 2 + 3j        # complex\n",
    "print(type(z))\n",
    "\n",
    "# Sequence Types\n",
    "fruits = [\"apple\", \"banana\", \"cherry\"]  # list\n",
    "print(type(fruits))\n",
    "coordinates = (10, 20)                 # tuple\n",
    "print(type(coordinates))\n",
    "numbers = range(5)                     # range\n",
    "print(type(numbers))\n",
    "\n",
    "# Text Type\n",
    "name = \"laxmi narayan\"                 # str\n",
    "print(type(name))\n",
    "\n",
    "# Set Types\n",
    "unique_numbers = {1, 2, 3}             # set\n",
    "print(type(unique_numbers))\n",
    "frozen_set = frozenset([1, 2, 3])      # frozenset\n",
    "print(type(frozen_set))\n",
    "\n",
    "# Mapping Type\n",
    "person = {\"name\": \"laxmi narayan\", \"age\": 25}  # dict\n",
    "print(type(person))\n",
    "\n",
    "# Boolean Type\n",
    "is_valid = True                        # bool\n",
    "print(type(is_valid))\n",
    "\n",
    "# None Type\n",
    "result = None                          # NoneType\n",
    "print(type(result))"
   ]
  },
  {
   "cell_type": "markdown",
   "id": "01162490",
   "metadata": {},
   "source": [
    "### 6. Indentation in Python\n",
    "\n",
    "Indentation in Python is used to define the structure and hierarchy of code. Unlike many other programming languages that use braces `{}` to delimit blocks of code, Python relies on indentation to determine the grouping of statements.\n",
    "\n",
    "This means that all the statements within a block must be indented at the same level. Proper indentation is crucial in Python, as incorrect indentation can lead to syntax errors.\n",
    "\n",
    "#### Key Points About Indentation:\n",
    "1. **Mandatory Indentation**:\n",
    "    - Python enforces indentation to indicate blocks of code.\n",
    "    - For example, in loops, conditionals, and function definitions, the indented lines belong to the same block.\n",
    "\n",
    "2. **Consistency**:\n",
    "    - The number of spaces used for indentation must be consistent within a block.\n",
    "    - Python does not enforce a specific number of spaces, but the convention is to use 4 spaces per indentation level.\n",
    "\n",
    "3. **Syntax Errors**:\n",
    "    - If the indentation is inconsistent or missing, Python will raise an `IndentationError`.\n",
    "\n",
    "4. **Readability**:\n",
    "    - Proper indentation improves the readability and maintainability of the code.\n"
   ]
  },
  {
   "cell_type": "code",
   "execution_count": 7,
   "id": "333a094d",
   "metadata": {},
   "outputs": [
    {
     "name": "stdout",
     "output_type": "stream",
     "text": [
      "196\n"
     ]
    }
   ],
   "source": [
    "# Line continuation using backslash (\\)\n",
    "\n",
    "# In Python, when a statement is too long to fit on a single line, \n",
    "# you can use the backslash (\\) to indicate that the statement continues on the next line.\n",
    "# This is particularly useful for improving code readability.\n",
    "\n",
    "total = 1 + 3 + 34 + 23 + 21 + 6 + 45 + \\\n",
    "    5 + 3 + 55  # The backslash allows the statement to span multiple lines\n",
    "\n",
    "print(total)  # Prints the sum of all the numbers"
   ]
  },
  {
   "cell_type": "code",
   "execution_count": 8,
   "id": "13bb9dc6",
   "metadata": {},
   "outputs": [
    {
     "name": "stdout",
     "output_type": "stream",
     "text": [
      "19\n"
     ]
    }
   ],
   "source": [
    "## MULTIPLE STATEMENTS ON A SINGLE LINE\n",
    "\n",
    "\n",
    "x=5;y=10;z=4; a=x+y+z\n",
    "print(a)"
   ]
  },
  {
   "cell_type": "code",
   "execution_count": 9,
   "id": "bf98bc50",
   "metadata": {},
   "outputs": [],
   "source": [
    "## Understand Semantics in Python \n",
    "#variable assignment\n",
    "\n",
    "age = 25 # age is an integer.\n",
    "name= \"Laxmi Naryan\" # name is a string.\n"
   ]
  },
  {
   "cell_type": "code",
   "execution_count": 10,
   "id": "7584c1c2",
   "metadata": {},
   "outputs": [
    {
     "name": "stdout",
     "output_type": "stream",
     "text": [
      "Correct Indentation\n",
      "This will print\n",
      "Outside the if block\n"
     ]
    }
   ],
   "source": [
    "## Code exmaples of indentation\n",
    "if True:\n",
    "    print(\"Correct Indentation\")\n",
    "    if False:\n",
    "        print(\"This ont print\")\n",
    "    print(\"This will print\")\n",
    "print(\"Outside the if block\")"
   ]
  },
  {
   "cell_type": "markdown",
   "id": "fb6ea62c",
   "metadata": {},
   "source": [
    "### Conclusion\n",
    "\n",
    "Understanding the syntax and semantics of Python is crucial for writing correct and meaningful programs. Syntax ensures the code is properly structured, while semantics ensures the code behaves as expected. Mastering these concepts not only helps in writing efficient and error-free Python code but also improves code readability, maintainability, and collaboration with other developers. By adhering to Python's syntax rules and understanding its semantics, programmers can create robust and scalable applications that meet user requirements effectively."
   ]
  }
 ],
 "metadata": {
  "kernelspec": {
   "display_name": "Python 3",
   "language": "python",
   "name": "python3"
  },
  "language_info": {
   "codemirror_mode": {
    "name": "ipython",
    "version": 3
   },
   "file_extension": ".py",
   "mimetype": "text/x-python",
   "name": "python",
   "nbconvert_exporter": "python",
   "pygments_lexer": "ipython3",
   "version": "3.12.0"
  }
 },
 "nbformat": 4,
 "nbformat_minor": 5
}
